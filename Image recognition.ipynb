{
 "cells": [
  {
   "cell_type": "code",
   "execution_count": 1,
   "metadata": {},
   "outputs": [],
   "source": [
    "import torch\n",
    "from torchvision import datasets\n",
    "from torchvision.transforms import ToTensor\n",
    "from torch.utils.data import DataLoader\n",
    "import torch.nn as nn\n",
    "import torch.nn.functional as F\n",
    "import torch.optim as optim"
   ]
  },
  {
   "cell_type": "code",
   "execution_count": 2,
   "metadata": {},
   "outputs": [
    {
     "name": "stdout",
     "output_type": "stream",
     "text": [
      "Downloading http://yann.lecun.com/exdb/mnist/train-images-idx3-ubyte.gz\n",
      "Downloading http://yann.lecun.com/exdb/mnist/train-images-idx3-ubyte.gz to data/MNIST/raw/train-images-idx3-ubyte.gz\n"
     ]
    },
    {
     "name": "stderr",
     "output_type": "stream",
     "text": [
      "100%|██████████| 9912422/9912422 [00:00<00:00, 41726343.34it/s]\n"
     ]
    },
    {
     "name": "stdout",
     "output_type": "stream",
     "text": [
      "Extracting data/MNIST/raw/train-images-idx3-ubyte.gz to data/MNIST/raw\n",
      "\n",
      "Downloading http://yann.lecun.com/exdb/mnist/train-labels-idx1-ubyte.gz\n",
      "Downloading http://yann.lecun.com/exdb/mnist/train-labels-idx1-ubyte.gz to data/MNIST/raw/train-labels-idx1-ubyte.gz\n"
     ]
    },
    {
     "name": "stderr",
     "output_type": "stream",
     "text": [
      "100%|██████████| 28881/28881 [00:00<00:00, 32783678.98it/s]"
     ]
    },
    {
     "name": "stdout",
     "output_type": "stream",
     "text": [
      "Extracting data/MNIST/raw/train-labels-idx1-ubyte.gz to data/MNIST/raw\n",
      "\n",
      "Downloading http://yann.lecun.com/exdb/mnist/t10k-images-idx3-ubyte.gz\n"
     ]
    },
    {
     "name": "stderr",
     "output_type": "stream",
     "text": [
      "\n"
     ]
    },
    {
     "name": "stdout",
     "output_type": "stream",
     "text": [
      "Downloading http://yann.lecun.com/exdb/mnist/t10k-images-idx3-ubyte.gz to data/MNIST/raw/t10k-images-idx3-ubyte.gz\n"
     ]
    },
    {
     "name": "stderr",
     "output_type": "stream",
     "text": [
      "100%|██████████| 1648877/1648877 [00:00<00:00, 19007482.17it/s]"
     ]
    },
    {
     "name": "stdout",
     "output_type": "stream",
     "text": [
      "Extracting data/MNIST/raw/t10k-images-idx3-ubyte.gz to data/MNIST/raw\n"
     ]
    },
    {
     "name": "stderr",
     "output_type": "stream",
     "text": [
      "\n"
     ]
    },
    {
     "name": "stdout",
     "output_type": "stream",
     "text": [
      "\n",
      "Downloading http://yann.lecun.com/exdb/mnist/t10k-labels-idx1-ubyte.gz\n",
      "Downloading http://yann.lecun.com/exdb/mnist/t10k-labels-idx1-ubyte.gz to data/MNIST/raw/t10k-labels-idx1-ubyte.gz\n"
     ]
    },
    {
     "name": "stderr",
     "output_type": "stream",
     "text": [
      "100%|██████████| 4542/4542 [00:00<00:00, 6610176.53it/s]\n"
     ]
    },
    {
     "name": "stdout",
     "output_type": "stream",
     "text": [
      "Extracting data/MNIST/raw/t10k-labels-idx1-ubyte.gz to data/MNIST/raw\n",
      "\n"
     ]
    }
   ],
   "source": [
    "train_data = datasets.MNIST(\n",
    "    root = 'data',\n",
    "    train = True,\n",
    "    transform = ToTensor(),\n",
    "    download = True)\n",
    "\n",
    "test_data = datasets.MNIST(\n",
    "    root = 'data',\n",
    "    train = False,\n",
    "    transform = ToTensor(),\n",
    "    download = True)"
   ]
  },
  {
   "cell_type": "code",
   "execution_count": 3,
   "metadata": {},
   "outputs": [
    {
     "data": {
      "text/plain": [
       "Dataset MNIST\n",
       "    Number of datapoints: 60000\n",
       "    Root location: data\n",
       "    Split: Train\n",
       "    StandardTransform\n",
       "Transform: ToTensor()"
      ]
     },
     "execution_count": 3,
     "metadata": {},
     "output_type": "execute_result"
    }
   ],
   "source": [
    "train_data"
   ]
  },
  {
   "cell_type": "code",
   "execution_count": 4,
   "metadata": {},
   "outputs": [
    {
     "data": {
      "text/plain": [
       "Dataset MNIST\n",
       "    Number of datapoints: 10000\n",
       "    Root location: data\n",
       "    Split: Test\n",
       "    StandardTransform\n",
       "Transform: ToTensor()"
      ]
     },
     "execution_count": 4,
     "metadata": {},
     "output_type": "execute_result"
    }
   ],
   "source": [
    "test_data"
   ]
  },
  {
   "cell_type": "code",
   "execution_count": 5,
   "metadata": {},
   "outputs": [
    {
     "data": {
      "text/plain": [
       "torch.Size([60000, 28, 28])"
      ]
     },
     "execution_count": 5,
     "metadata": {},
     "output_type": "execute_result"
    }
   ],
   "source": [
    "train_data.data.shape"
   ]
  },
  {
   "cell_type": "code",
   "execution_count": 6,
   "metadata": {},
   "outputs": [
    {
     "data": {
      "text/plain": [
       "torch.Size([60000])"
      ]
     },
     "execution_count": 6,
     "metadata": {},
     "output_type": "execute_result"
    }
   ],
   "source": [
    "train_data.targets.shape"
   ]
  },
  {
   "cell_type": "code",
   "execution_count": 7,
   "metadata": {},
   "outputs": [
    {
     "data": {
      "text/plain": [
       "tensor([5, 0, 4,  ..., 5, 6, 8])"
      ]
     },
     "execution_count": 7,
     "metadata": {},
     "output_type": "execute_result"
    }
   ],
   "source": [
    "train_data.targets"
   ]
  },
  {
   "cell_type": "code",
   "execution_count": 8,
   "metadata": {},
   "outputs": [],
   "source": [
    "loaders = {\n",
    "\n",
    "    'train' : DataLoader(train_data,\n",
    "                         batch_size=100,\n",
    "                         shuffle=True,\n",
    "                         num_workers=1),\n",
    "\n",
    "\n",
    "    'test' : DataLoader(test_data,\n",
    "                         batch_size=100,\n",
    "                         shuffle=True,\n",
    "                         num_workers=1)\n",
    "\n",
    " }                        \n"
   ]
  },
  {
   "cell_type": "code",
   "execution_count": 9,
   "metadata": {},
   "outputs": [],
   "source": [
    "class CNN(nn.Module):\n",
    "\n",
    "    def __init__(self):\n",
    "        super(CNN, self).__init__()\n",
    "\n",
    "        self.conv1 = nn.Conv2d(1, 10, kernel_size=5)\n",
    "        self.conv2 = nn.Conv2d(10, 20, kernel_size=5)\n",
    "        self.conv2_drop = nn.Dropout2d()\n",
    "        self.fc1 = nn.Linear(320, 50)\n",
    "        self.fc2 = nn.Linear(50, 10)\n",
    "\n",
    "\n",
    "    def forward(self, x):\n",
    "        x = F.relu(F.max_pool2d(self.conv1(x), 2))\n",
    "        x = F.relu(F.max_pool2d(self.conv2_drop(self.conv2(x)), 2))\n",
    "        x = x.view(-1, 320)\n",
    "        x = F.relu(self.fc1(x))\n",
    "        x = F.dropout(x, training=self.training)\n",
    "        x = self.fc2(x)\n",
    "\n",
    "        return F.softmax(x)\n",
    "        \n",
    "\n"
   ]
  },
  {
   "cell_type": "code",
   "execution_count": 10,
   "metadata": {},
   "outputs": [],
   "source": [
    "device = torch.device('cuda' if torch.cuda.is_available() else 'cpu')\n",
    "model = CNN().to(device)\n",
    "optimizer = optim.Adam(model.parameters(), lr=0.001)\n",
    "loss_fn = nn.CrossEntropyLoss()\n",
    "\n",
    "def train(epoch):\n",
    "    model.train()\n",
    "    for batch_idx, (data, target) in enumerate(loaders['train']):\n",
    "        data, target = data.to(device), target.to(device)\n",
    "        optimizer.zero_grad()\n",
    "        output = model(data)\n",
    "        loss = loss_fn(output, target)\n",
    "        loss.backward()\n",
    "        optimizer.step()\n",
    "        if batch_idx % 20 == 0:\n",
    "            print(f'Train Epoch: {epoch} [{batch_idx * len(data)}/{len(loaders[\"train\"].dataset)} ({100. * batch_idx / len(loaders[\"train\"]):.0}%)]\\t{loss.item():.6f}')\n",
    "\n",
    "\n",
    "def test():\n",
    "    model.eval()\n",
    "    test_loss = 0\n",
    "    correct = 0\n",
    "\n",
    "    with torch.no_grad():\n",
    "        for data, target in loaders['test']:\n",
    "            data, target = data.to(device), target.to(device)\n",
    "            output = model(data)\n",
    "            test_loss += loss_fn(output, target).item()\n",
    "            pred = output.argmax(dim=1, keepdim=True)\n",
    "            correct += pred.eq(target.view_as(pred)).sum().item()\n",
    "\n",
    "    test_loss /= len(loaders['test'].dataset)\n",
    "    print(f'\\nTest set: Average loss: {test_loss:.4f}, Accuracy {correct}/{len(loaders[\"test\"].dataset)} ({100. * correct / len(loaders[\"test\"].dataset):.0f}%\\n)')"
   ]
  },
  {
   "cell_type": "code",
   "execution_count": 11,
   "metadata": {},
   "outputs": [
    {
     "name": "stderr",
     "output_type": "stream",
     "text": [
      "/var/folders/xc/5qc2dsm12rl4s8_3vyxlnj4c0000gn/T/ipykernel_67289/3118681616.py:21: UserWarning: Implicit dimension choice for softmax has been deprecated. Change the call to include dim=X as an argument.\n",
      "  return F.softmax(x)\n"
     ]
    },
    {
     "name": "stdout",
     "output_type": "stream",
     "text": [
      "Train Epoch: 1 [0/60000 (0e+00%)]\t2.303132\n",
      "Train Epoch: 1 [2000/60000 (3e+00%)]\t2.277637\n",
      "Train Epoch: 1 [4000/60000 (7e+00%)]\t2.144990\n",
      "Train Epoch: 1 [6000/60000 (1e+01%)]\t1.993384\n",
      "Train Epoch: 1 [8000/60000 (1e+01%)]\t1.985019\n",
      "Train Epoch: 1 [10000/60000 (2e+01%)]\t1.826663\n",
      "Train Epoch: 1 [12000/60000 (2e+01%)]\t1.764230\n",
      "Train Epoch: 1 [14000/60000 (2e+01%)]\t1.728637\n",
      "Train Epoch: 1 [16000/60000 (3e+01%)]\t1.703920\n",
      "Train Epoch: 1 [18000/60000 (3e+01%)]\t1.720367\n",
      "Train Epoch: 1 [20000/60000 (3e+01%)]\t1.804865\n",
      "Train Epoch: 1 [22000/60000 (4e+01%)]\t1.640542\n",
      "Train Epoch: 1 [24000/60000 (4e+01%)]\t1.699374\n",
      "Train Epoch: 1 [26000/60000 (4e+01%)]\t1.640202\n",
      "Train Epoch: 1 [28000/60000 (5e+01%)]\t1.640364\n",
      "Train Epoch: 1 [30000/60000 (5e+01%)]\t1.697037\n",
      "Train Epoch: 1 [32000/60000 (5e+01%)]\t1.603266\n",
      "Train Epoch: 1 [34000/60000 (6e+01%)]\t1.614841\n",
      "Train Epoch: 1 [36000/60000 (6e+01%)]\t1.575346\n",
      "Train Epoch: 1 [38000/60000 (6e+01%)]\t1.643164\n",
      "Train Epoch: 1 [40000/60000 (7e+01%)]\t1.652717\n",
      "Train Epoch: 1 [42000/60000 (7e+01%)]\t1.620277\n",
      "Train Epoch: 1 [44000/60000 (7e+01%)]\t1.626362\n",
      "Train Epoch: 1 [46000/60000 (8e+01%)]\t1.622571\n",
      "Train Epoch: 1 [48000/60000 (8e+01%)]\t1.568945\n",
      "Train Epoch: 1 [50000/60000 (8e+01%)]\t1.655215\n",
      "Train Epoch: 1 [52000/60000 (9e+01%)]\t1.629973\n",
      "Train Epoch: 1 [54000/60000 (9e+01%)]\t1.678110\n",
      "Train Epoch: 1 [56000/60000 (9e+01%)]\t1.610231\n",
      "Train Epoch: 1 [58000/60000 (1e+02%)]\t1.603828\n",
      "\n",
      "Test set: Average loss: 0.0153, Accuracy 9331/10000 (93%\n",
      ")\n",
      "Train Epoch: 2 [0/60000 (0e+00%)]\t1.574284\n",
      "Train Epoch: 2 [2000/60000 (3e+00%)]\t1.621409\n",
      "Train Epoch: 2 [4000/60000 (7e+00%)]\t1.604915\n",
      "Train Epoch: 2 [6000/60000 (1e+01%)]\t1.594628\n",
      "Train Epoch: 2 [8000/60000 (1e+01%)]\t1.603117\n",
      "Train Epoch: 2 [10000/60000 (2e+01%)]\t1.566323\n",
      "Train Epoch: 2 [12000/60000 (2e+01%)]\t1.599347\n",
      "Train Epoch: 2 [14000/60000 (2e+01%)]\t1.597650\n",
      "Train Epoch: 2 [16000/60000 (3e+01%)]\t1.522576\n",
      "Train Epoch: 2 [18000/60000 (3e+01%)]\t1.600090\n",
      "Train Epoch: 2 [20000/60000 (3e+01%)]\t1.602045\n",
      "Train Epoch: 2 [22000/60000 (4e+01%)]\t1.616260\n",
      "Train Epoch: 2 [24000/60000 (4e+01%)]\t1.544277\n",
      "Train Epoch: 2 [26000/60000 (4e+01%)]\t1.600507\n",
      "Train Epoch: 2 [28000/60000 (5e+01%)]\t1.569846\n",
      "Train Epoch: 2 [30000/60000 (5e+01%)]\t1.622015\n",
      "Train Epoch: 2 [32000/60000 (5e+01%)]\t1.619564\n",
      "Train Epoch: 2 [34000/60000 (6e+01%)]\t1.613186\n",
      "Train Epoch: 2 [36000/60000 (6e+01%)]\t1.540367\n",
      "Train Epoch: 2 [38000/60000 (6e+01%)]\t1.576019\n",
      "Train Epoch: 2 [40000/60000 (7e+01%)]\t1.585280\n",
      "Train Epoch: 2 [42000/60000 (7e+01%)]\t1.620029\n",
      "Train Epoch: 2 [44000/60000 (7e+01%)]\t1.507338\n",
      "Train Epoch: 2 [46000/60000 (8e+01%)]\t1.531364\n",
      "Train Epoch: 2 [48000/60000 (8e+01%)]\t1.613895\n",
      "Train Epoch: 2 [50000/60000 (8e+01%)]\t1.545187\n",
      "Train Epoch: 2 [52000/60000 (9e+01%)]\t1.578082\n",
      "Train Epoch: 2 [54000/60000 (9e+01%)]\t1.564719\n",
      "Train Epoch: 2 [56000/60000 (9e+01%)]\t1.660782\n",
      "Train Epoch: 2 [58000/60000 (1e+02%)]\t1.602128\n",
      "\n",
      "Test set: Average loss: 0.0151, Accuracy 9516/10000 (95%\n",
      ")\n",
      "Train Epoch: 3 [0/60000 (0e+00%)]\t1.620698\n",
      "Train Epoch: 3 [2000/60000 (3e+00%)]\t1.609638\n",
      "Train Epoch: 3 [4000/60000 (7e+00%)]\t1.608512\n",
      "Train Epoch: 3 [6000/60000 (1e+01%)]\t1.571559\n",
      "Train Epoch: 3 [8000/60000 (1e+01%)]\t1.631847\n",
      "Train Epoch: 3 [10000/60000 (2e+01%)]\t1.616298\n",
      "Train Epoch: 3 [12000/60000 (2e+01%)]\t1.613099\n",
      "Train Epoch: 3 [14000/60000 (2e+01%)]\t1.532522\n",
      "Train Epoch: 3 [16000/60000 (3e+01%)]\t1.561069\n",
      "Train Epoch: 3 [18000/60000 (3e+01%)]\t1.554174\n",
      "Train Epoch: 3 [20000/60000 (3e+01%)]\t1.567985\n",
      "Train Epoch: 3 [22000/60000 (4e+01%)]\t1.606875\n",
      "Train Epoch: 3 [24000/60000 (4e+01%)]\t1.523205\n",
      "Train Epoch: 3 [26000/60000 (4e+01%)]\t1.595621\n",
      "Train Epoch: 3 [28000/60000 (5e+01%)]\t1.613299\n",
      "Train Epoch: 3 [30000/60000 (5e+01%)]\t1.553168\n",
      "Train Epoch: 3 [32000/60000 (5e+01%)]\t1.627457\n",
      "Train Epoch: 3 [34000/60000 (6e+01%)]\t1.535106\n",
      "Train Epoch: 3 [36000/60000 (6e+01%)]\t1.555024\n",
      "Train Epoch: 3 [38000/60000 (6e+01%)]\t1.585532\n",
      "Train Epoch: 3 [40000/60000 (7e+01%)]\t1.572242\n",
      "Train Epoch: 3 [42000/60000 (7e+01%)]\t1.563489\n",
      "Train Epoch: 3 [44000/60000 (7e+01%)]\t1.561548\n",
      "Train Epoch: 3 [46000/60000 (8e+01%)]\t1.544014\n",
      "Train Epoch: 3 [48000/60000 (8e+01%)]\t1.558473\n",
      "Train Epoch: 3 [50000/60000 (8e+01%)]\t1.575479\n",
      "Train Epoch: 3 [52000/60000 (9e+01%)]\t1.598249\n",
      "Train Epoch: 3 [54000/60000 (9e+01%)]\t1.572274\n",
      "Train Epoch: 3 [56000/60000 (9e+01%)]\t1.582459\n",
      "Train Epoch: 3 [58000/60000 (1e+02%)]\t1.562655\n",
      "\n",
      "Test set: Average loss: 0.0150, Accuracy 9563/10000 (96%\n",
      ")\n",
      "Train Epoch: 4 [0/60000 (0e+00%)]\t1.575549\n",
      "Train Epoch: 4 [2000/60000 (3e+00%)]\t1.557881\n",
      "Train Epoch: 4 [4000/60000 (7e+00%)]\t1.562762\n",
      "Train Epoch: 4 [6000/60000 (1e+01%)]\t1.562640\n",
      "Train Epoch: 4 [8000/60000 (1e+01%)]\t1.552542\n",
      "Train Epoch: 4 [10000/60000 (2e+01%)]\t1.581974\n",
      "Train Epoch: 4 [12000/60000 (2e+01%)]\t1.574719\n",
      "Train Epoch: 4 [14000/60000 (2e+01%)]\t1.532806\n",
      "Train Epoch: 4 [16000/60000 (3e+01%)]\t1.595237\n",
      "Train Epoch: 4 [18000/60000 (3e+01%)]\t1.545259\n",
      "Train Epoch: 4 [20000/60000 (3e+01%)]\t1.552672\n",
      "Train Epoch: 4 [22000/60000 (4e+01%)]\t1.528281\n",
      "Train Epoch: 4 [24000/60000 (4e+01%)]\t1.583576\n",
      "Train Epoch: 4 [26000/60000 (4e+01%)]\t1.559323\n",
      "Train Epoch: 4 [28000/60000 (5e+01%)]\t1.551241\n",
      "Train Epoch: 4 [30000/60000 (5e+01%)]\t1.577752\n",
      "Train Epoch: 4 [32000/60000 (5e+01%)]\t1.527973\n",
      "Train Epoch: 4 [34000/60000 (6e+01%)]\t1.552454\n",
      "Train Epoch: 4 [36000/60000 (6e+01%)]\t1.554633\n",
      "Train Epoch: 4 [38000/60000 (6e+01%)]\t1.593230\n",
      "Train Epoch: 4 [40000/60000 (7e+01%)]\t1.565096\n",
      "Train Epoch: 4 [42000/60000 (7e+01%)]\t1.547100\n",
      "Train Epoch: 4 [44000/60000 (7e+01%)]\t1.570712\n",
      "Train Epoch: 4 [46000/60000 (8e+01%)]\t1.544384\n",
      "Train Epoch: 4 [48000/60000 (8e+01%)]\t1.599928\n",
      "Train Epoch: 4 [50000/60000 (8e+01%)]\t1.583148\n",
      "Train Epoch: 4 [52000/60000 (9e+01%)]\t1.593747\n",
      "Train Epoch: 4 [54000/60000 (9e+01%)]\t1.519289\n",
      "Train Epoch: 4 [56000/60000 (9e+01%)]\t1.510598\n",
      "Train Epoch: 4 [58000/60000 (1e+02%)]\t1.578323\n",
      "\n",
      "Test set: Average loss: 0.0150, Accuracy 9609/10000 (96%\n",
      ")\n",
      "Train Epoch: 5 [0/60000 (0e+00%)]\t1.532378\n",
      "Train Epoch: 5 [2000/60000 (3e+00%)]\t1.510771\n",
      "Train Epoch: 5 [4000/60000 (7e+00%)]\t1.510592\n",
      "Train Epoch: 5 [6000/60000 (1e+01%)]\t1.538403\n",
      "Train Epoch: 5 [8000/60000 (1e+01%)]\t1.560695\n",
      "Train Epoch: 5 [10000/60000 (2e+01%)]\t1.549465\n",
      "Train Epoch: 5 [12000/60000 (2e+01%)]\t1.555528\n",
      "Train Epoch: 5 [14000/60000 (2e+01%)]\t1.517736\n",
      "Train Epoch: 5 [16000/60000 (3e+01%)]\t1.555634\n",
      "Train Epoch: 5 [18000/60000 (3e+01%)]\t1.541335\n",
      "Train Epoch: 5 [20000/60000 (3e+01%)]\t1.539093\n",
      "Train Epoch: 5 [22000/60000 (4e+01%)]\t1.554974\n",
      "Train Epoch: 5 [24000/60000 (4e+01%)]\t1.599983\n",
      "Train Epoch: 5 [26000/60000 (4e+01%)]\t1.524420\n",
      "Train Epoch: 5 [28000/60000 (5e+01%)]\t1.568754\n",
      "Train Epoch: 5 [30000/60000 (5e+01%)]\t1.532621\n",
      "Train Epoch: 5 [32000/60000 (5e+01%)]\t1.504665\n",
      "Train Epoch: 5 [34000/60000 (6e+01%)]\t1.503772\n",
      "Train Epoch: 5 [36000/60000 (6e+01%)]\t1.573605\n",
      "Train Epoch: 5 [38000/60000 (6e+01%)]\t1.554190\n",
      "Train Epoch: 5 [40000/60000 (7e+01%)]\t1.546498\n",
      "Train Epoch: 5 [42000/60000 (7e+01%)]\t1.541481\n",
      "Train Epoch: 5 [44000/60000 (7e+01%)]\t1.546794\n",
      "Train Epoch: 5 [46000/60000 (8e+01%)]\t1.575400\n",
      "Train Epoch: 5 [48000/60000 (8e+01%)]\t1.538149\n",
      "Train Epoch: 5 [50000/60000 (8e+01%)]\t1.520411\n",
      "Train Epoch: 5 [52000/60000 (9e+01%)]\t1.553714\n",
      "Train Epoch: 5 [54000/60000 (9e+01%)]\t1.508206\n",
      "Train Epoch: 5 [56000/60000 (9e+01%)]\t1.524287\n",
      "Train Epoch: 5 [58000/60000 (1e+02%)]\t1.540900\n",
      "\n",
      "Test set: Average loss: 0.0149, Accuracy 9667/10000 (97%\n",
      ")\n",
      "Train Epoch: 6 [0/60000 (0e+00%)]\t1.567341\n",
      "Train Epoch: 6 [2000/60000 (3e+00%)]\t1.579476\n",
      "Train Epoch: 6 [4000/60000 (7e+00%)]\t1.531060\n",
      "Train Epoch: 6 [6000/60000 (1e+01%)]\t1.559119\n",
      "Train Epoch: 6 [8000/60000 (1e+01%)]\t1.538616\n",
      "Train Epoch: 6 [10000/60000 (2e+01%)]\t1.535005\n",
      "Train Epoch: 6 [12000/60000 (2e+01%)]\t1.524620\n",
      "Train Epoch: 6 [14000/60000 (2e+01%)]\t1.494002\n",
      "Train Epoch: 6 [16000/60000 (3e+01%)]\t1.526170\n",
      "Train Epoch: 6 [18000/60000 (3e+01%)]\t1.511547\n",
      "Train Epoch: 6 [20000/60000 (3e+01%)]\t1.565600\n",
      "Train Epoch: 6 [22000/60000 (4e+01%)]\t1.542800\n",
      "Train Epoch: 6 [24000/60000 (4e+01%)]\t1.569093\n",
      "Train Epoch: 6 [26000/60000 (4e+01%)]\t1.546652\n",
      "Train Epoch: 6 [28000/60000 (5e+01%)]\t1.499998\n",
      "Train Epoch: 6 [30000/60000 (5e+01%)]\t1.554650\n",
      "Train Epoch: 6 [32000/60000 (5e+01%)]\t1.536204\n",
      "Train Epoch: 6 [34000/60000 (6e+01%)]\t1.578178\n",
      "Train Epoch: 6 [36000/60000 (6e+01%)]\t1.563716\n",
      "Train Epoch: 6 [38000/60000 (6e+01%)]\t1.557023\n",
      "Train Epoch: 6 [40000/60000 (7e+01%)]\t1.535880\n",
      "Train Epoch: 6 [42000/60000 (7e+01%)]\t1.551717\n",
      "Train Epoch: 6 [44000/60000 (7e+01%)]\t1.541333\n",
      "Train Epoch: 6 [46000/60000 (8e+01%)]\t1.519026\n",
      "Train Epoch: 6 [48000/60000 (8e+01%)]\t1.559942\n",
      "Train Epoch: 6 [50000/60000 (8e+01%)]\t1.557720\n",
      "Train Epoch: 6 [52000/60000 (9e+01%)]\t1.536185\n",
      "Train Epoch: 6 [54000/60000 (9e+01%)]\t1.489300\n",
      "Train Epoch: 6 [56000/60000 (9e+01%)]\t1.586447\n",
      "Train Epoch: 6 [58000/60000 (1e+02%)]\t1.554857\n",
      "\n",
      "Test set: Average loss: 0.0149, Accuracy 9689/10000 (97%\n",
      ")\n",
      "Train Epoch: 7 [0/60000 (0e+00%)]\t1.557472\n",
      "Train Epoch: 7 [2000/60000 (3e+00%)]\t1.526844\n",
      "Train Epoch: 7 [4000/60000 (7e+00%)]\t1.529420\n",
      "Train Epoch: 7 [6000/60000 (1e+01%)]\t1.545946\n",
      "Train Epoch: 7 [8000/60000 (1e+01%)]\t1.541154\n",
      "Train Epoch: 7 [10000/60000 (2e+01%)]\t1.553851\n",
      "Train Epoch: 7 [12000/60000 (2e+01%)]\t1.516150\n",
      "Train Epoch: 7 [14000/60000 (2e+01%)]\t1.550520\n",
      "Train Epoch: 7 [16000/60000 (3e+01%)]\t1.518816\n",
      "Train Epoch: 7 [18000/60000 (3e+01%)]\t1.540137\n",
      "Train Epoch: 7 [20000/60000 (3e+01%)]\t1.531468\n",
      "Train Epoch: 7 [22000/60000 (4e+01%)]\t1.562618\n",
      "Train Epoch: 7 [24000/60000 (4e+01%)]\t1.543375\n",
      "Train Epoch: 7 [26000/60000 (4e+01%)]\t1.557299\n",
      "Train Epoch: 7 [28000/60000 (5e+01%)]\t1.550938\n",
      "Train Epoch: 7 [30000/60000 (5e+01%)]\t1.532294\n",
      "Train Epoch: 7 [32000/60000 (5e+01%)]\t1.527602\n",
      "Train Epoch: 7 [34000/60000 (6e+01%)]\t1.518783\n",
      "Train Epoch: 7 [36000/60000 (6e+01%)]\t1.506444\n",
      "Train Epoch: 7 [38000/60000 (6e+01%)]\t1.483801\n",
      "Train Epoch: 7 [40000/60000 (7e+01%)]\t1.535264\n",
      "Train Epoch: 7 [42000/60000 (7e+01%)]\t1.521978\n",
      "Train Epoch: 7 [44000/60000 (7e+01%)]\t1.527468\n",
      "Train Epoch: 7 [46000/60000 (8e+01%)]\t1.560664\n",
      "Train Epoch: 7 [48000/60000 (8e+01%)]\t1.557994\n",
      "Train Epoch: 7 [50000/60000 (8e+01%)]\t1.578613\n",
      "Train Epoch: 7 [52000/60000 (9e+01%)]\t1.507425\n",
      "Train Epoch: 7 [54000/60000 (9e+01%)]\t1.569476\n",
      "Train Epoch: 7 [56000/60000 (9e+01%)]\t1.532398\n",
      "Train Epoch: 7 [58000/60000 (1e+02%)]\t1.522241\n",
      "\n",
      "Test set: Average loss: 0.0149, Accuracy 9684/10000 (97%\n",
      ")\n",
      "Train Epoch: 8 [0/60000 (0e+00%)]\t1.555767\n",
      "Train Epoch: 8 [2000/60000 (3e+00%)]\t1.527464\n",
      "Train Epoch: 8 [4000/60000 (7e+00%)]\t1.588126\n",
      "Train Epoch: 8 [6000/60000 (1e+01%)]\t1.554662\n",
      "Train Epoch: 8 [8000/60000 (1e+01%)]\t1.539910\n",
      "Train Epoch: 8 [10000/60000 (2e+01%)]\t1.553484\n",
      "Train Epoch: 8 [12000/60000 (2e+01%)]\t1.534565\n",
      "Train Epoch: 8 [14000/60000 (2e+01%)]\t1.531505\n",
      "Train Epoch: 8 [16000/60000 (3e+01%)]\t1.582756\n",
      "Train Epoch: 8 [18000/60000 (3e+01%)]\t1.536354\n",
      "Train Epoch: 8 [20000/60000 (3e+01%)]\t1.538179\n",
      "Train Epoch: 8 [22000/60000 (4e+01%)]\t1.551180\n",
      "Train Epoch: 8 [24000/60000 (4e+01%)]\t1.500803\n",
      "Train Epoch: 8 [26000/60000 (4e+01%)]\t1.515088\n",
      "Train Epoch: 8 [28000/60000 (5e+01%)]\t1.528338\n",
      "Train Epoch: 8 [30000/60000 (5e+01%)]\t1.509502\n",
      "Train Epoch: 8 [32000/60000 (5e+01%)]\t1.541048\n",
      "Train Epoch: 8 [34000/60000 (6e+01%)]\t1.582996\n",
      "Train Epoch: 8 [36000/60000 (6e+01%)]\t1.556984\n",
      "Train Epoch: 8 [38000/60000 (6e+01%)]\t1.527954\n",
      "Train Epoch: 8 [40000/60000 (7e+01%)]\t1.535103\n",
      "Train Epoch: 8 [42000/60000 (7e+01%)]\t1.534337\n",
      "Train Epoch: 8 [44000/60000 (7e+01%)]\t1.537739\n",
      "Train Epoch: 8 [46000/60000 (8e+01%)]\t1.520307\n",
      "Train Epoch: 8 [48000/60000 (8e+01%)]\t1.531654\n",
      "Train Epoch: 8 [50000/60000 (8e+01%)]\t1.590072\n",
      "Train Epoch: 8 [52000/60000 (9e+01%)]\t1.495479\n",
      "Train Epoch: 8 [54000/60000 (9e+01%)]\t1.496800\n",
      "Train Epoch: 8 [56000/60000 (9e+01%)]\t1.583096\n",
      "Train Epoch: 8 [58000/60000 (1e+02%)]\t1.533438\n",
      "\n",
      "Test set: Average loss: 0.0149, Accuracy 9694/10000 (97%\n",
      ")\n",
      "Train Epoch: 9 [0/60000 (0e+00%)]\t1.506135\n",
      "Train Epoch: 9 [2000/60000 (3e+00%)]\t1.520824\n",
      "Train Epoch: 9 [4000/60000 (7e+00%)]\t1.506196\n",
      "Train Epoch: 9 [6000/60000 (1e+01%)]\t1.560745\n",
      "Train Epoch: 9 [8000/60000 (1e+01%)]\t1.522090\n",
      "Train Epoch: 9 [10000/60000 (2e+01%)]\t1.532104\n",
      "Train Epoch: 9 [12000/60000 (2e+01%)]\t1.558243\n",
      "Train Epoch: 9 [14000/60000 (2e+01%)]\t1.492363\n",
      "Train Epoch: 9 [16000/60000 (3e+01%)]\t1.520976\n",
      "Train Epoch: 9 [18000/60000 (3e+01%)]\t1.533942\n",
      "Train Epoch: 9 [20000/60000 (3e+01%)]\t1.548872\n",
      "Train Epoch: 9 [22000/60000 (4e+01%)]\t1.574955\n",
      "Train Epoch: 9 [24000/60000 (4e+01%)]\t1.509629\n",
      "Train Epoch: 9 [26000/60000 (4e+01%)]\t1.516474\n",
      "Train Epoch: 9 [28000/60000 (5e+01%)]\t1.570143\n",
      "Train Epoch: 9 [30000/60000 (5e+01%)]\t1.513052\n",
      "Train Epoch: 9 [32000/60000 (5e+01%)]\t1.487126\n",
      "Train Epoch: 9 [34000/60000 (6e+01%)]\t1.516940\n",
      "Train Epoch: 9 [36000/60000 (6e+01%)]\t1.514736\n",
      "Train Epoch: 9 [38000/60000 (6e+01%)]\t1.536116\n",
      "Train Epoch: 9 [40000/60000 (7e+01%)]\t1.535547\n",
      "Train Epoch: 9 [42000/60000 (7e+01%)]\t1.543864\n",
      "Train Epoch: 9 [44000/60000 (7e+01%)]\t1.578727\n",
      "Train Epoch: 9 [46000/60000 (8e+01%)]\t1.512725\n",
      "Train Epoch: 9 [48000/60000 (8e+01%)]\t1.532665\n",
      "Train Epoch: 9 [50000/60000 (8e+01%)]\t1.531500\n",
      "Train Epoch: 9 [52000/60000 (9e+01%)]\t1.559032\n",
      "Train Epoch: 9 [54000/60000 (9e+01%)]\t1.520436\n",
      "Train Epoch: 9 [56000/60000 (9e+01%)]\t1.557938\n",
      "Train Epoch: 9 [58000/60000 (1e+02%)]\t1.534326\n",
      "\n",
      "Test set: Average loss: 0.0149, Accuracy 9743/10000 (97%\n",
      ")\n"
     ]
    }
   ],
   "source": [
    "for epoch in range(1, 10):\n",
    "    train(epoch)\n",
    "    test()\n"
   ]
  },
  {
   "cell_type": "code",
   "execution_count": 274,
   "metadata": {},
   "outputs": [
    {
     "data": {
      "text/plain": [
       "device(type='cpu')"
      ]
     },
     "execution_count": 274,
     "metadata": {},
     "output_type": "execute_result"
    }
   ],
   "source": [
    "device"
   ]
  },
  {
   "cell_type": "code",
   "execution_count": 89,
   "metadata": {},
   "outputs": [],
   "source": [
    "def make_prediction(X):\n",
    "    logit = model(X).argmax(dim=1)\n",
    "    return logit"
   ]
  },
  {
   "cell_type": "code",
   "execution_count": 90,
   "metadata": {},
   "outputs": [],
   "source": [
    "X, y = train_data[0]"
   ]
  },
  {
   "cell_type": "code",
   "execution_count": 93,
   "metadata": {},
   "outputs": [
    {
     "name": "stderr",
     "output_type": "stream",
     "text": [
      "/var/folders/xc/5qc2dsm12rl4s8_3vyxlnj4c0000gn/T/ipykernel_67289/3118681616.py:21: UserWarning: Implicit dimension choice for softmax has been deprecated. Change the call to include dim=X as an argument.\n",
      "  return F.softmax(x)\n"
     ]
    },
    {
     "data": {
      "text/plain": [
       "tensor([5])"
      ]
     },
     "execution_count": 93,
     "metadata": {},
     "output_type": "execute_result"
    }
   ],
   "source": [
    "make_prediction(X)"
   ]
  },
  {
   "cell_type": "code",
   "execution_count": 114,
   "metadata": {},
   "outputs": [
    {
     "data": {
      "text/plain": [
       "torch.Size([1, 28, 28])"
      ]
     },
     "execution_count": 114,
     "metadata": {},
     "output_type": "execute_result"
    }
   ],
   "source": [
    "from torch.utils.data import dataset\n",
    "from torchvision import datasets, transforms\n",
    "from PIL import Image\n",
    "import matplotlib.pyplot as plt\n",
    "\n",
    "data_transform = transforms.Compose([\n",
    "    transforms.Grayscale(),\n",
    "    transforms.Resize(size=(28,28)),\n",
    "    transforms.ToTensor()\n",
    "])\n",
    "\n",
    "img = Image.open('/Users/navalmor/Desktop/Image Recognition/two.jpeg')\n",
    "transformed_img = data_transform(img)\n",
    "transformed_img.shape"
   ]
  },
  {
   "cell_type": "code",
   "execution_count": 116,
   "metadata": {},
   "outputs": [
    {
     "data": {
      "text/plain": [
       "<matplotlib.image.AxesImage at 0x16ba51b70>"
      ]
     },
     "execution_count": 116,
     "metadata": {},
     "output_type": "execute_result"
    },
    {
     "data": {
      "image/png": "[encoded data removed]",
      "text/plain": [
       "<Figure size 640x480 with 1 Axes>"
      ]
     },
     "metadata": {},
     "output_type": "display_data"
    }
   ],
   "source": [
    "plt.imshow(transformed_img.permute(1,2,0), cmap='gray')"
   ]
  },
  {
   "cell_type": "code",
   "execution_count": 117,
   "metadata": {},
   "outputs": [
    {
     "name": "stderr",
     "output_type": "stream",
     "text": [
      "/opt/homebrew/lib/python3.10/site-packages/torch/nn/functional.py:1352: UserWarning: dropout2d: Received a 3D input to dropout2d and assuming that channel-wise 1D dropout behavior is desired - input is interpreted as shape (N, C, L), where C is the channel dim. This behavior will change in a future release to interpret the input as one without a batch dimension, i.e. shape (C, H, W). To maintain the 1D channel-wise dropout behavior, please switch to using dropout1d instead.\n",
      "  warnings.warn(\"dropout2d: Received a 3D input to dropout2d and assuming that channel-wise \"\n",
      "/var/folders/xc/5qc2dsm12rl4s8_3vyxlnj4c0000gn/T/ipykernel_67289/3118681616.py:21: UserWarning: Implicit dimension choice for softmax has been deprecated. Change the call to include dim=X as an argument.\n",
      "  return F.softmax(x)\n"
     ]
    },
    {
     "data": {
      "text/plain": [
       "tensor([2])"
      ]
     },
     "execution_count": 117,
     "metadata": {},
     "output_type": "execute_result"
    }
   ],
   "source": [
    "make_prediction(transformed_img)"
   ]
  },
  {
   "cell_type": "code",
   "execution_count": 121,
   "metadata": {},
   "outputs": [],
   "source": [
    "class ImagePredictionModel():\n",
    "    def __init__(self, image_path):\n",
    "        self.image_path = image_path\n",
    "        self.img = Image.open(self.image_path)\n",
    "        self.tensor = data_transform(self.img)\n",
    "\n",
    "    def img_show(self):\n",
    "        return self.img\n",
    "    \n",
    "    def show_prediction(self):\n",
    "        return make_prediction(self.tensor)"
   ]
  },
  {
   "cell_type": "code",
   "execution_count": 127,
   "metadata": {},
   "outputs": [],
   "source": [
    "a = ImagePredictionModel('/Users/navalmor/Desktop/one.jpeg')"
   ]
  },
  {
   "cell_type": "code",
   "execution_count": 128,
   "metadata": {},
   "outputs": [
    {
     "data": {
      "image/png": "[encoded data removed]",
      "text/plain": [
       "<PIL.JpegImagePlugin.JpegImageFile image mode=RGB size=225x225>"
      ]
     },
     "execution_count": 128,
     "metadata": {},
     "output_type": "execute_result"
    }
   ],
   "source": [
    "a.img_show()"
   ]
  },
  {
   "cell_type": "code",
   "execution_count": 130,
   "metadata": {},
   "outputs": [
    {
     "name": "stderr",
     "output_type": "stream",
     "text": [
      "/opt/homebrew/lib/python3.10/site-packages/torch/nn/functional.py:1352: UserWarning: dropout2d: Received a 3D input to dropout2d and assuming that channel-wise 1D dropout behavior is desired - input is interpreted as shape (N, C, L), where C is the channel dim. This behavior will change in a future release to interpret the input as one without a batch dimension, i.e. shape (C, H, W). To maintain the 1D channel-wise dropout behavior, please switch to using dropout1d instead.\n",
      "  warnings.warn(\"dropout2d: Received a 3D input to dropout2d and assuming that channel-wise \"\n",
      "/var/folders/xc/5qc2dsm12rl4s8_3vyxlnj4c0000gn/T/ipykernel_67289/3118681616.py:21: UserWarning: Implicit dimension choice for softmax has been deprecated. Change the call to include dim=X as an argument.\n",
      "  return F.softmax(x)\n"
     ]
    },
    {
     "data": {
      "text/plain": [
       "1"
      ]
     },
     "execution_count": 130,
     "metadata": {},
     "output_type": "execute_result"
    }
   ],
   "source": [
    "a.show_prediction().item()"
   ]
  },
  {
   "cell_type": "code",
   "execution_count": null,
   "metadata": {},
   "outputs": [],
   "source": []
  }
 ],
 "metadata": {
  "kernelspec": {
   "display_name": "Python 3",
   "language": "python",
   "name": "python3"
  },
  "language_info": {
   "codemirror_mode": {
    "name": "ipython",
    "version": 3
   },
   "file_extension": ".py",
   "mimetype": "text/x-python",
   "name": "python",
   "nbconvert_exporter": "python",
   "pygments_lexer": "ipython3",
   "version": "3.10.8"
  }
 },
 "nbformat": 4,
 "nbformat_minor": 2
}
