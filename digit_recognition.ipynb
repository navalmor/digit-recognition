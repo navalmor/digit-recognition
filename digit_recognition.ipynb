{
 "cells": [
  {
   "cell_type": "code",
   "execution_count": 1,
   "metadata": {},
   "outputs": [],
   "source": [
    "import torch\n",
    "from torch import nn\n",
    "from torch.utils.data import DataLoader\n",
    "from torchvision import transforms, datasets\n",
    "from torchmetrics import Accuracy\n",
    "from PIL import Image\n",
    "import matplotlib.pyplot as plt"
   ]
  },
  {
   "cell_type": "code",
   "execution_count": 2,
   "metadata": {},
   "outputs": [],
   "source": [
    "data_transform = transforms.Compose([\n",
    "    transforms.Resize(size=(64, 64)),\n",
    "    transforms.Grayscale(num_output_channels=3),\n",
    "    transforms.ToTensor()\n",
    "])"
   ]
  },
  {
   "cell_type": "code",
   "execution_count": 3,
   "metadata": {},
   "outputs": [],
   "source": [
    "train_data = datasets.MNIST(root='data',\n",
    "                            train=True,\n",
    "                            transform=data_transform,\n",
    "                            download=True)\n",
    "\n",
    "test_data = datasets.MNIST(root='data',\n",
    "                            train=False,\n",
    "                            transform=data_transform,\n",
    "                            download=True)"
   ]
  },
  {
   "cell_type": "code",
   "execution_count": 4,
   "metadata": {},
   "outputs": [
    {
     "data": {
      "text/plain": [
       "torch.Size([3, 64, 64])"
      ]
     },
     "execution_count": 4,
     "metadata": {},
     "output_type": "execute_result"
    }
   ],
   "source": [
    "train_data[0][0].shape"
   ]
  },
  {
   "cell_type": "code",
   "execution_count": 5,
   "metadata": {},
   "outputs": [],
   "source": [
    "train_dataloader = DataLoader(dataset=train_data,\n",
    "                              batch_size=50,\n",
    "                              shuffle=True)\n",
    "\n",
    "test_dataloader = DataLoader(dataset=test_data,\n",
    "                             batch_size=50,\n",
    "                             shuffle=True)"
   ]
  },
  {
   "cell_type": "code",
   "execution_count": 6,
   "metadata": {},
   "outputs": [],
   "source": [
    "class DigitRecognitionModel(nn.Module):\n",
    "    def __init__(self,\n",
    "                 in_channel :int,\n",
    "                 hidden_channel :int,\n",
    "                 out_channel :int):\n",
    "        super().__init__()\n",
    "\n",
    "        self.conv_stack_1 = nn.Sequential(\n",
    "            nn.Conv2d(in_channels=in_channel,\n",
    "                      out_channels=hidden_channel,\n",
    "                      kernel_size=5),\n",
    "            nn.MaxPool2d(kernel_size=2),\n",
    "            nn.ReLU()\n",
    "        )\n",
    "\n",
    "        self.conv_stack_2 = nn.Sequential(\n",
    "            nn.Conv2d(in_channels=hidden_channel,\n",
    "                      out_channels=hidden_channel,\n",
    "                      kernel_size=5),\n",
    "            nn.Dropout2d(),\n",
    "            nn.MaxPool2d(kernel_size=2),\n",
    "            nn.ReLU()\n",
    "        )\n",
    "\n",
    "        self.linear_classifier = nn.Sequential(\n",
    "            nn.Flatten(),\n",
    "            nn.Linear(in_features=hidden_channel*900,\n",
    "                      out_features=out_channel)\n",
    "        )\n",
    "\n",
    "    def forward(self, X :torch.Tensor):\n",
    "        #print(X.shape)\n",
    "        X = self.conv_stack_1(X)\n",
    "        #print(X.shape)\n",
    "        #X = self.conv_stack_2(X)\n",
    "        #print(X.shape)\n",
    "        X = self.linear_classifier(X)\n",
    "        #print(X.shape)\n",
    "        return X"
   ]
  },
  {
   "cell_type": "code",
   "execution_count": 7,
   "metadata": {},
   "outputs": [],
   "source": [
    "model = DigitRecognitionModel(in_channel=3,\n",
    "                              hidden_channel=10,\n",
    "                              out_channel=len(train_data.classes))"
   ]
  },
  {
   "cell_type": "code",
   "execution_count": 8,
   "metadata": {},
   "outputs": [
    {
     "data": {
      "text/plain": [
       "tensor([[ 0.0743,  0.0070, -0.0759, -0.0683,  0.0862,  0.0870,  0.0959, -0.0669,\n",
       "          0.2236, -0.1611]], grad_fn=<AddmmBackward0>)"
      ]
     },
     "execution_count": 8,
     "metadata": {},
     "output_type": "execute_result"
    }
   ],
   "source": [
    "X, y = next(iter(train_dataloader))\n",
    "model(X[0].unsqueeze(dim=0))"
   ]
  },
  {
   "cell_type": "code",
   "execution_count": 9,
   "metadata": {},
   "outputs": [],
   "source": [
    "loss_fn = nn.CrossEntropyLoss()\n",
    "optimizer = torch.optim.Adam(params=model.parameters(),\n",
    "                            lr = 0.01)\n",
    "acc_fn = Accuracy(task='multiclass',\n",
    "                     num_classes = 10)"
   ]
  },
  {
   "cell_type": "code",
   "execution_count": 29,
   "metadata": {},
   "outputs": [
    {
     "name": "stdout",
     "output_type": "stream",
     "text": [
      "Epoch : 0 | Train_loss : 0.312 | Train_acc : 0.91% | Test_loss : 0.298 | Test_acc : 0.91%\n",
      "Epoch : 2 | Train_loss : 0.291 | Train_acc : 0.92% | Test_loss : 0.280 | Test_acc : 0.92%\n",
      "Epoch : 4 | Train_loss : 0.280 | Train_acc : 0.92% | Test_loss : 0.273 | Test_acc : 0.92%\n",
      "Epoch : 6 | Train_loss : 0.270 | Train_acc : 0.92% | Test_loss : 0.258 | Test_acc : 0.93%\n",
      "Epoch : 8 | Train_loss : 0.255 | Train_acc : 0.93% | Test_loss : 0.246 | Test_acc : 0.93%\n",
      "Epoch : 10 | Train_loss : 0.247 | Train_acc : 0.93% | Test_loss : 0.238 | Test_acc : 0.93%\n",
      "Epoch : 12 | Train_loss : 0.237 | Train_acc : 0.93% | Test_loss : 0.232 | Test_acc : 0.93%\n",
      "Epoch : 14 | Train_loss : 0.229 | Train_acc : 0.93% | Test_loss : 0.225 | Test_acc : 0.94%\n",
      "Epoch : 16 | Train_loss : 0.221 | Train_acc : 0.94% | Test_loss : 0.217 | Test_acc : 0.94%\n",
      "Epoch : 18 | Train_loss : 0.214 | Train_acc : 0.94% | Test_loss : 0.211 | Test_acc : 0.94%\n",
      "Epoch : 20 | Train_loss : 0.207 | Train_acc : 0.94% | Test_loss : 0.204 | Test_acc : 0.94%\n",
      "Epoch : 22 | Train_loss : 0.200 | Train_acc : 0.94% | Test_loss : 0.199 | Test_acc : 0.95%\n",
      "Epoch : 24 | Train_loss : 0.196 | Train_acc : 0.94% | Test_loss : 0.194 | Test_acc : 0.95%\n",
      "Epoch : 26 | Train_loss : 0.190 | Train_acc : 0.94% | Test_loss : 0.188 | Test_acc : 0.95%\n",
      "Epoch : 28 | Train_loss : 0.186 | Train_acc : 0.95% | Test_loss : 0.184 | Test_acc : 0.95%\n"
     ]
    }
   ],
   "source": [
    "torch.manual_seed(42)\n",
    "epoch_values = []\n",
    "train_loss_values = []\n",
    "test_loss_values = []\n",
    "epochs = 30\n",
    "\n",
    "for epoch in range(epochs):\n",
    "    train_loss = 0\n",
    "    train_acc = 0\n",
    "    model.train()\n",
    "    for X,y in train_dataloader:\n",
    "        train_logit = model(X)\n",
    "        train_loss += loss_fn(train_logit, y)\n",
    "        train_pred = train_logit.argmax(dim=1)\n",
    "        train_acc += acc_fn(train_pred, y)\n",
    "    train_loss /= len(train_dataloader)\n",
    "    train_acc /= len(train_dataloader)\n",
    "    optimizer.zero_grad()\n",
    "    train_loss.backward()\n",
    "    optimizer.step()\n",
    "    model.eval()\n",
    "    with torch.inference_mode():\n",
    "        test_loss = 0\n",
    "        test_acc = 0\n",
    "        for X, y in test_dataloader:\n",
    "            test_logit = model(X)\n",
    "            test_loss += loss_fn(test_logit, y)\n",
    "            test_pred = test_logit.argmax(dim=1)\n",
    "            test_acc += acc_fn(test_pred, y)\n",
    "        test_loss /= len(test_dataloader)\n",
    "        test_acc /= len(test_dataloader)\n",
    "    if epoch%2==0:\n",
    "        train_loss_values.append(train_loss)\n",
    "        test_loss_values.append(test_loss)\n",
    "        print(f\"Epoch : {epoch} | Train_loss : {train_loss :.3f} | Train_acc : {train_acc :.2f}% | Test_loss : {test_loss :.3f} | Test_acc : {test_acc :.2f}%\")\n",
    "\n",
    "\n",
    "        "
   ]
  },
  {
   "cell_type": "code",
   "execution_count": 37,
   "metadata": {},
   "outputs": [],
   "source": [
    "class MakePrediction():\n",
    "    def __init__(self,\n",
    "                 path :str):\n",
    "        self.path = path\n",
    "        self.img = Image.open(self.path)\n",
    "        self.img = transforms.functional.invert(self.img)\n",
    "        self.tensor = data_transform(self.img)\n",
    "\n",
    "    def show_image(self):\n",
    "        return self.img\n",
    "    \n",
    "    def show_prediction(self):\n",
    "        digit = model(self.tensor.unsqueeze(dim=0))\n",
    "        prediction = digit.argmax(dim=1)\n",
    "        return prediction\n",
    "    \n",
    "    def plot_img(self):\n",
    "        plt.imshow(self.tensor.permute(1,2,0), cmap='gray')"
   ]
  },
  {
   "cell_type": "code",
   "execution_count": 38,
   "metadata": {},
   "outputs": [
    {
     "data": {
      "text/plain": [
       "(None, tensor([3]))"
      ]
     },
     "execution_count": 38,
     "metadata": {},
     "output_type": "execute_result"
    },
    {
     "data": {
      "image/png": "[encoded data removed]",
      "text/plain": [
       "<Figure size 640x480 with 1 Axes>"
      ]
     },
     "metadata": {},
     "output_type": "display_data"
    }
   ],
   "source": [
    "a = MakePrediction('/Users/navalmor/Desktop/Image Recognition/0 1 10.jpeg')\n",
    "a.plot_img(), a.show_prediction()"
   ]
  },
  {
   "cell_type": "code",
   "execution_count": 39,
   "metadata": {},
   "outputs": [],
   "source": [
    "torch.save(obj=model.state_dict(), f='/Users/navalmor/Desktop/Image Recognition/model/DigitRecognitionModelParameter.pt')\n",
    "torch.save(obj=model, f='/Users/navalmor/Desktop/Image Recognition/model/DigitRecognitionModel.pt')"
   ]
  },
  {
   "cell_type": "code",
   "execution_count": null,
   "metadata": {},
   "outputs": [],
   "source": []
  }
 ],
 "metadata": {
  "kernelspec": {
   "display_name": "Python 3",
   "language": "python",
   "name": "python3"
  },
  "language_info": {
   "codemirror_mode": {
    "name": "ipython",
    "version": 3
   },
   "file_extension": ".py",
   "mimetype": "text/x-python",
   "name": "python",
   "nbconvert_exporter": "python",
   "pygments_lexer": "ipython3",
   "version": "3.10.8"
  }
 },
 "nbformat": 4,
 "nbformat_minor": 2
}
