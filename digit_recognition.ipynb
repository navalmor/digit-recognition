{
 "cells": [
  {
   "cell_type": "markdown",
   "metadata": {},
   "source": [
    "## Import modules"
   ]
  },
  {
   "cell_type": "code",
   "execution_count": 1,
   "metadata": {},
   "outputs": [],
   "source": [
    "import torch\n",
    "from torch import nn\n",
    "from torch.utils.data import DataLoader\n",
    "from torchvision import transforms, datasets\n",
    "from torchmetrics import Accuracy\n",
    "from PIL import Image\n",
    "import matplotlib.pyplot as plt"
   ]
  },
  {
   "cell_type": "markdown",
   "metadata": {},
   "source": [
    "## Transform data"
   ]
  },
  {
   "cell_type": "code",
   "execution_count": 2,
   "metadata": {},
   "outputs": [],
   "source": [
    "data_transform = transforms.Compose([\n",
    "    transforms.Resize(size=(64, 64)),\n",
    "    transforms.Grayscale(num_output_channels=3),\n",
    "    transforms.ToTensor()\n",
    "])"
   ]
  },
  {
   "cell_type": "markdown",
   "metadata": {},
   "source": [
    "## Download train/test data"
   ]
  },
  {
   "cell_type": "code",
   "execution_count": 3,
   "metadata": {},
   "outputs": [],
   "source": [
    "train_data = datasets.MNIST(root='data',\n",
    "                            train=True,\n",
    "                            transform=data_transform,\n",
    "                            download=True)\n",
    "\n",
    "test_data = datasets.MNIST(root='data',\n",
    "                            train=False,\n",
    "                            transform=data_transform,\n",
    "                            download=True)"
   ]
  },
  {
   "cell_type": "code",
   "execution_count": 4,
   "metadata": {},
   "outputs": [
    {
     "data": {
      "text/plain": [
       "torch.Size([3, 64, 64])"
      ]
     },
     "execution_count": 4,
     "metadata": {},
     "output_type": "execute_result"
    }
   ],
   "source": [
    "train_data[0][0].shape"
   ]
  },
  {
   "cell_type": "markdown",
   "metadata": {},
   "source": [
    "## Create dataloader"
   ]
  },
  {
   "cell_type": "code",
   "execution_count": 5,
   "metadata": {},
   "outputs": [],
   "source": [
    "train_dataloader = DataLoader(dataset=train_data,\n",
    "                              batch_size=50,\n",
    "                              shuffle=True)\n",
    "\n",
    "test_dataloader = DataLoader(dataset=test_data,\n",
    "                             batch_size=50,\n",
    "                             shuffle=True)"
   ]
  },
  {
   "cell_type": "markdown",
   "metadata": {},
   "source": [
    "## Build model"
   ]
  },
  {
   "cell_type": "code",
   "execution_count": 6,
   "metadata": {},
   "outputs": [],
   "source": [
    "class DigitRecognitionModel(nn.Module):\n",
    "    def __init__(self,\n",
    "                 in_channel :int,\n",
    "                 hidden_channel :int,\n",
    "                 out_channel :int):\n",
    "        super().__init__()\n",
    "\n",
    "        self.conv_stack_1 = nn.Sequential(\n",
    "            nn.Conv2d(in_channels=in_channel,\n",
    "                      out_channels=hidden_channel,\n",
    "                      kernel_size=5),\n",
    "            nn.MaxPool2d(kernel_size=2),\n",
    "            nn.ReLU()\n",
    "        )\n",
    "\n",
    "        self.conv_stack_2 = nn.Sequential(\n",
    "            nn.Conv2d(in_channels=hidden_channel,\n",
    "                      out_channels=hidden_channel,\n",
    "                      kernel_size=5),\n",
    "            nn.Dropout2d(),\n",
    "            nn.MaxPool2d(kernel_size=2),\n",
    "            nn.ReLU()\n",
    "        )\n",
    "\n",
    "        self.linear_classifier = nn.Sequential(\n",
    "            nn.Flatten(),\n",
    "            nn.Linear(in_features=hidden_channel*900,\n",
    "                      out_features=out_channel)\n",
    "        )\n",
    "\n",
    "    def forward(self, X :torch.Tensor):\n",
    "        #print(X.shape)\n",
    "        X = self.conv_stack_1(X)\n",
    "        #print(X.shape)\n",
    "        #X = self.conv_stack_2(X)\n",
    "        #print(X.shape)\n",
    "        X = self.linear_classifier(X)\n",
    "        #print(X.shape)\n",
    "        return X"
   ]
  },
  {
   "cell_type": "code",
   "execution_count": 7,
   "metadata": {},
   "outputs": [],
   "source": [
    "model = DigitRecognitionModel(in_channel=3,\n",
    "                              hidden_channel=10,\n",
    "                              out_channel=len(train_data.classes))"
   ]
  },
  {
   "cell_type": "code",
   "execution_count": 8,
   "metadata": {},
   "outputs": [
    {
     "data": {
      "text/plain": [
       "tensor([[ 0.0743,  0.0070, -0.0759, -0.0683,  0.0862,  0.0870,  0.0959, -0.0669,\n",
       "          0.2236, -0.1611]], grad_fn=<AddmmBackward0>)"
      ]
     },
     "execution_count": 8,
     "metadata": {},
     "output_type": "execute_result"
    }
   ],
   "source": [
    "X, y = next(iter(train_dataloader))\n",
    "model(X[0].unsqueeze(dim=0))"
   ]
  },
  {
   "cell_type": "markdown",
   "metadata": {},
   "source": [
    "## Train model"
   ]
  },
  {
   "cell_type": "code",
   "execution_count": 9,
   "metadata": {},
   "outputs": [],
   "source": [
    "loss_fn = nn.CrossEntropyLoss()\n",
    "optimizer = torch.optim.Adam(params=model.parameters(),\n",
    "                            lr = 0.01)\n",
    "acc_fn = Accuracy(task='multiclass',\n",
    "                     num_classes = 10)"
   ]
  },
  {
   "cell_type": "code",
   "execution_count": 47,
   "metadata": {},
   "outputs": [
    {
     "name": "stdout",
     "output_type": "stream",
     "text": [
      "Epoch : 0 | Train_loss : 0.137 | Train_acc : 0.96% | Test_loss : 0.148 | Test_acc : 0.96%\n",
      "Epoch : 2 | Train_loss : 0.135 | Train_acc : 0.96% | Test_loss : 0.147 | Test_acc : 0.96%\n",
      "Epoch : 4 | Train_loss : 0.133 | Train_acc : 0.96% | Test_loss : 0.146 | Test_acc : 0.96%\n",
      "Epoch : 6 | Train_loss : 0.131 | Train_acc : 0.96% | Test_loss : 0.144 | Test_acc : 0.96%\n",
      "Epoch : 8 | Train_loss : 0.129 | Train_acc : 0.96% | Test_loss : 0.143 | Test_acc : 0.96%\n",
      "Epoch : 10 | Train_loss : 0.128 | Train_acc : 0.96% | Test_loss : 0.142 | Test_acc : 0.96%\n",
      "Epoch : 12 | Train_loss : 0.126 | Train_acc : 0.96% | Test_loss : 0.141 | Test_acc : 0.96%\n",
      "Epoch : 14 | Train_loss : 0.125 | Train_acc : 0.96% | Test_loss : 0.140 | Test_acc : 0.96%\n",
      "Epoch : 16 | Train_loss : 0.123 | Train_acc : 0.96% | Test_loss : 0.139 | Test_acc : 0.96%\n",
      "Epoch : 18 | Train_loss : 0.122 | Train_acc : 0.96% | Test_loss : 0.138 | Test_acc : 0.96%\n",
      "Epoch : 20 | Train_loss : 0.120 | Train_acc : 0.97% | Test_loss : 0.137 | Test_acc : 0.96%\n",
      "Epoch : 22 | Train_loss : 0.119 | Train_acc : 0.97% | Test_loss : 0.136 | Test_acc : 0.96%\n",
      "Epoch : 24 | Train_loss : 0.118 | Train_acc : 0.97% | Test_loss : 0.135 | Test_acc : 0.96%\n",
      "Epoch : 26 | Train_loss : 0.116 | Train_acc : 0.97% | Test_loss : 0.135 | Test_acc : 0.96%\n",
      "Epoch : 28 | Train_loss : 0.115 | Train_acc : 0.97% | Test_loss : 0.134 | Test_acc : 0.96%\n"
     ]
    }
   ],
   "source": [
    "torch.manual_seed(42)\n",
    "epoch_values = []\n",
    "train_loss_values = []\n",
    "test_loss_values = []\n",
    "epochs = 30\n",
    "\n",
    "for epoch in range(epochs):\n",
    "    train_loss = 0\n",
    "    train_acc = 0\n",
    "    model.train()\n",
    "    for X,y in train_dataloader:\n",
    "        train_logit = model(X)\n",
    "        train_loss += loss_fn(train_logit, y)\n",
    "        train_pred = train_logit.argmax(dim=1)\n",
    "        train_acc += acc_fn(train_pred, y)\n",
    "    train_loss /= len(train_dataloader)\n",
    "    train_acc /= len(train_dataloader)\n",
    "    optimizer.zero_grad()\n",
    "    train_loss.backward()\n",
    "    optimizer.step()\n",
    "    model.eval()\n",
    "    with torch.inference_mode():\n",
    "        test_loss = 0\n",
    "        test_acc = 0\n",
    "        for X, y in test_dataloader:\n",
    "            test_logit = model(X)\n",
    "            test_loss += loss_fn(test_logit, y)\n",
    "            test_pred = test_logit.argmax(dim=1)\n",
    "            test_acc += acc_fn(test_pred, y)\n",
    "        test_loss /= len(test_dataloader)\n",
    "        test_acc /= len(test_dataloader)\n",
    "    if epoch%2==0:\n",
    "        train_loss_values.append(train_loss)\n",
    "        test_loss_values.append(test_loss)\n",
    "        print(f\"Epoch : {epoch} | Train_loss : {train_loss :.3f} | Train_acc : {train_acc :.2f}% | Test_loss : {test_loss :.3f} | Test_acc : {test_acc :.2f}%\")\n",
    "\n",
    "\n",
    "        "
   ]
  },
  {
   "cell_type": "markdown",
   "metadata": {},
   "source": [
    "## Make predictions"
   ]
  },
  {
   "cell_type": "code",
   "execution_count": 65,
   "metadata": {},
   "outputs": [],
   "source": [
    "class MakePrediction():\n",
    "    def __init__(self,\n",
    "                 path :str):\n",
    "        self.path = path\n",
    "        self.img = Image.open(self.path)\n",
    "        self.img = transforms.functional.invert(self.img)\n",
    "        self.tensor = data_transform(self.img)\n",
    "\n",
    "    def show_image(self):\n",
    "        return self.img\n",
    "    \n",
    "    def show_prediction(self):\n",
    "        digit = model(self.tensor.unsqueeze(dim=0))\n",
    "        prediction = digit.argmax(dim=1)\n",
    "        return prediction\n",
    "    \n",
    "    def plot_img(self):\n",
    "        plt.imshow(self.tensor.permute(1,2,0), cmap='gray')"
   ]
  },
  {
   "cell_type": "code",
   "execution_count": 91,
   "metadata": {},
   "outputs": [
    {
     "name": "stdout",
     "output_type": "stream",
     "text": [
      "3\n"
     ]
    },
    {
     "data": {
      "image/png": "[encoded data removed]",
      "text/plain": [
       "<Figure size 640x480 with 1 Axes>"
      ]
     },
     "metadata": {},
     "output_type": "display_data"
    }
   ],
   "source": [
    "a = MakePrediction('/Users/navalmor/Desktop/Image Recognition/three.JPG')\n",
    "a.plot_img()\n",
    "print(a.show_prediction().item())"
   ]
  },
  {
   "cell_type": "markdown",
   "metadata": {},
   "source": [
    "## Save/Load model"
   ]
  },
  {
   "cell_type": "code",
   "execution_count": 79,
   "metadata": {},
   "outputs": [],
   "source": [
    "torch.save(obj=model.state_dict(), f='/Users/navalmor/Desktop/Image Recognition/model/DigitRecognitionModelParameter.pt')\n",
    "torch.save(obj=model, f='/Users/navalmor/Desktop/Image Recognition/model/DigitRecognitionModel.pt')"
   ]
  },
  {
   "cell_type": "code",
   "execution_count": 69,
   "metadata": {},
   "outputs": [],
   "source": [
    "loaded_model = torch.load(f='/Users/navalmor/Desktop/Image Recognition/model/DigitRecognitionModel.pt')"
   ]
  },
  {
   "cell_type": "code",
   "execution_count": 77,
   "metadata": {},
   "outputs": [
    {
     "data": {
      "text/plain": [
       "tensor([0])"
      ]
     },
     "execution_count": 77,
     "metadata": {},
     "output_type": "execute_result"
    }
   ],
   "source": [
    "loaded_model.eval()\n",
    "img = Image.open('/Users/navalmor/Desktop/Image Recognition/0 1 2.jpeg')\n",
    "tr_img = data_transform(img)\n",
    "loaded_model(tr_img.unsqueeze(0)).argmax(1)"
   ]
  },
  {
   "cell_type": "code",
   "execution_count": 81,
   "metadata": {},
   "outputs": [],
   "source": [
    "model_scripted = torch.jit.script(model)\n",
    "model_scripted.save('scripted_model.pt')"
   ]
  }
 ],
 "metadata": {
  "kernelspec": {
   "display_name": "Python 3",
   "language": "python",
   "name": "python3"
  },
  "language_info": {
   "codemirror_mode": {
    "name": "ipython",
    "version": 3
   },
   "file_extension": ".py",
   "mimetype": "text/x-python",
   "name": "python",
   "nbconvert_exporter": "python",
   "pygments_lexer": "ipython3",
   "version": "3.10.8"
  }
 },
 "nbformat": 4,
 "nbformat_minor": 2
}
